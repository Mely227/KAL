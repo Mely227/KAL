{
 "cells": [
  {
   "cell_type": "markdown",
   "metadata": {},
   "source": [
    "# SPL (Sistem Persamaan Linier)\n",
    "\n",
    "Sistem persamaan linear terdiri dari beberapa persamaan linear yang harus diselesaikan secara bersamaan. Persamaan linear sendiri merupakan persamaan matematika yang melibatkan variabel-variabel dengan pangkat satu.Terdapat dua jenis sistem persamaan linear, yaitu sistem persamaan linear homogen dan sistem persamaan linear tak homogen.\n",
    "- SPL Homogen\n",
    "    Sistem persamaan linear homogen adalah sistem persamaan linear di mana semua konstanta pada persamaan adalah nol.\n",
    "    Contoh :\n",
    "        persamaan x + y = 0 dan 2x – 2y = 0.\n",
    "- SPL tak Homogen\n",
    "    Sedangkan sistem persamaan linear tak homogen adalah sistem persamaan linear di mana setidaknya ada satu konstanta yang tidak nol.\n",
    "    Contoh :\n",
    "        persamaan x + y = 1 dan 2x – 2y = 3.\n",
    "        \n",
    "Sistem persamaan linear merupakan salah satu topik yang penting dalam matematika. Sistem ini terdiri dari beberapa persamaan linear yang harus diselesaikan secara bersamaan. Persamaan linear sendiri merupakan persamaan yang memiliki bentuk umum seperti ax + by = c, di mana a, b, dan c adalah konstanta yang diketahui, sedangkan x dan y adalah variabel yang harus dicari.\n",
    "\n",
    "Dalam sistem persamaan linear, terdapat dua jenis sistem yaitu sistem persamaan linear dengan dua variabel dan sistem persamaan linear dengan tiga variabel. Sistem persamaan linear dengan dua variabel memiliki dua persamaan dengan dua variabel yang harus dicari nilainya. Sedangkan sistem persamaan linear dengan tiga variabel memiliki tiga persamaan dengan tiga variabel yang harus dicari nilainya.\n",
    "\n"
   ]
  },
  {
   "cell_type": "code",
   "execution_count": null,
   "metadata": {},
   "outputs": [],
   "source": [
    "from matplotlib import rcParams, cycler\n",
    "import matplotlib.pyplot as plt\n",
    "import numpy as np\n",
    "plt.ion()"
   ]
  }
 ],
 "metadata": {
  "kernelspec": {
   "display_name": "Python 3",
   "language": "python",
   "name": "python3"
  },
  "language_info": {
   "codemirror_mode": {
    "name": "ipython",
    "version": 3
   },
   "file_extension": ".py",
   "mimetype": "text/x-python",
   "name": "python",
   "nbconvert_exporter": "python",
   "pygments_lexer": "ipython3",
   "version": "3.12.1"
  },
  "widgets": {
   "application/vnd.jupyter.widget-state+json": {
    "state": {},
    "version_major": 2,
    "version_minor": 0
   }
  }
 },
 "nbformat": 4,
 "nbformat_minor": 4
}
